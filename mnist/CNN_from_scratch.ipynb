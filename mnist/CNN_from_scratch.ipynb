{
 "cells": [
  {
   "cell_type": "markdown",
   "metadata": {},
   "source": [
    "# Building CNN From Scratch\n",
    "\n",
    "Convolutional neural network (CNN) is the state-of-art technique for analyzing multidimensional signals such as images. There are a lot of different libraries available to allow us use this technique in image processing, but these libraries seperate us from having full control of the neural networks. So understanding the implementing process is crucial and will be useful in the actual usage of the CNN. \n",
    "\n",
    "In this notebook, I am going to follow the guidelines by Ahmed Gad and [his post](https://www.kdnuggets.com/2018/04/building-convolutional-neural-network-numpy-scratch.html). However, the dataset I am using is the MNIST dataset which can be found in [here](https://www.kaggle.com/c/digit-recognizer/data). "
   ]
  },
  {
   "cell_type": "markdown",
   "metadata": {},
   "source": [
    "## 1. Guidelines for building CNN\n",
    "\n",
    "In the tutorial by Ahmed Gad, the CNN is created only by NumPy library with three layers: convolution, ReLU, and max pooling. The steps involved are as follows:\n",
    "\n",
    "1. Reading the input image.\n",
    "2. Preparing filters.\n",
    "3. Conv layer: Convolving each filter wih the input image.\n",
    "4. ReLu layer: Applying ReLU activation function on the feature maps (out of conv layer)\n",
    "5. Max Pooling layer: Applying the pooling operation on the output of ReLU layer.\n"
   ]
  },
  {
   "cell_type": "markdown",
   "metadata": {},
   "source": [
    "### (1) Reading input image\n",
    "\n",
    "Since we are doing CNN on datasets,so in the preprocessing steps, ours will take more exploration into the dataset rather than looking at the graphs. MNIST dataset is a set of calligraphcal images of digit 1-9. In the training dataset, there are approximately 4000+ numbers for each of the digits which gives a good learning sample for our NN. "
   ]
  },
  {
   "cell_type": "code",
   "execution_count": 17,
   "metadata": {},
   "outputs": [],
   "source": [
    "import pandas as pd\n",
    "import numpy as np\n",
    "import seaborn as sns\n",
    "import matplotlib.pyplot as plt"
   ]
  },
  {
   "cell_type": "code",
   "execution_count": 18,
   "metadata": {},
   "outputs": [],
   "source": [
    "train = pd.read_csv(\"train.csv\")\n",
    "test = pd.read_csv('test.csv')"
   ]
  },
  {
   "cell_type": "code",
   "execution_count": 19,
   "metadata": {},
   "outputs": [
    {
     "data": {
      "image/png": "[encoded data removed]",
      "text/plain": [
       "<Figure size 432x288 with 1 Axes>"
      ]
     },
     "metadata": {
      "needs_background": "light"
     },
     "output_type": "display_data"
    }
   ],
   "source": [
    "Y_train = train['label']\n",
    "X_train = train.drop(labels=['label'], axis = 1)\n",
    "\n",
    "\n",
    "g = sns.countplot(Y_train)"
   ]
  },
  {
   "cell_type": "markdown",
   "metadata": {},
   "source": [
    "The MNIST dataset has been stock into pandas.DataFrame as 1D vectors of 784 values. So it is easier to process if we have reshaped it into a $28 \\times 28 \\times 1$ 3D matrices. Check [here](https://stackoverflow.com/questions/41778632/why-is-the-x-variable-tensor-reshaped-with-1-in-the-mnist-tutorial-for-tensorfl) for why we need to reshape it to 4 dimension."
   ]
  },
  {
   "cell_type": "code",
   "execution_count": 42,
   "metadata": {},
   "outputs": [],
   "source": [
    "X_train2 = X_train.values.reshape(-1,28,28,1)"
   ]
  },
  {
   "cell_type": "code",
   "execution_count": 10,
   "metadata": {},
   "outputs": [],
   "source": [
    "test = test.values.reshape(-1,28,28,1)"
   ]
  },
  {
   "cell_type": "markdown",
   "metadata": {},
   "source": [
    "Now we can take a look at the actual example in our graphs. It will make better sense if we can take a look at it before applying the filters."
   ]
  },
  {
   "cell_type": "code",
   "execution_count": 43,
   "metadata": {},
   "outputs": [
    {
     "data": {
      "image/png": "[encoded data removed]",
      "text/plain": [
       "<Figure size 432x288 with 1 Axes>"
      ]
     },
     "metadata": {
      "needs_background": "light"
     },
     "output_type": "display_data"
    }
   ],
   "source": [
    "ex = plt.imshow(X_train2[3][:,:,0])\n",
    "# or use plt.imshow(,cmap = 'grey')"
   ]
  },
  {
   "cell_type": "markdown",
   "metadata": {},
   "source": [
    "### （2）Preparing filters\n",
    "\n",
    "The filters bank for the first conv layer (conv) is a zero array created according to the number of filters and size of each filter. For 2D image such as greysclae, we typically have filter = 2 because of the image does not have depth. If the image is RGB with three channels, the filter size should be 3. "
   ]
  },
  {
   "cell_type": "code",
   "execution_count": 144,
   "metadata": {},
   "outputs": [],
   "source": [
    "l1_filter = np.zeros((2,3,3))\n",
    "l1_filter[0,:,:] = np.array([[[-1,0,1],\n",
    "                              [-1,0,1],\n",
    "                              [-1,0,1]]])\n",
    "l1_filter[1,:,:] = np.array([[[1,1,1],\n",
    "                              [0,0,0],\n",
    "                              [-1,-1,-1]]])"
   ]
  },
  {
   "cell_type": "markdown",
   "metadata": {},
   "source": [
    "### (3) Conv Layer\n",
    "\n",
    "After preparing the filters, next is to convolve te input image. To convolve the images with filters bank using using a function called conv. The **conv** function is defined in the following, thanks to the credit of Ahmed."
   ]
  },
  {
   "cell_type": "code",
   "execution_count": 173,
   "metadata": {},
   "outputs": [],
   "source": [
    "import numpy\n",
    "def conv(img, conv_filter):  \n",
    "    if len(img.shape) > 2 or len(conv_filter.shape) > 3: # Check if number of image channels matches the filter depth.  \n",
    "        if img.shape[-1] != conv_filter.shape[-1]:  \n",
    "            print(\"Error: Number of channels in both image and filter must match.\")  \n",
    "            sys.exit()  \n",
    "    if conv_filter.shape[1] != conv_filter.shape[2]: # Check if filter dimensions are equal.  \n",
    "        print('Error: Filter must be a square matrix. I.e. number of rows and columns must match.')  \n",
    "        sys.exit()  \n",
    "    if conv_filter.shape[1]%2==0: # Check if filter diemnsions are odd.  \n",
    "        print('Error: Filter must have an odd size. I.e. number of rows and columns must be odd.')  \n",
    "        sys.exit()  \n",
    "   \n",
    "     # An empty feature map to hold the output of convolving the filter(s) with the image.  \n",
    "    feature_maps = numpy.zeros((img.shape[0]-conv_filter.shape[1]+1,   \n",
    "                                 img.shape[1]-conv_filter.shape[1]+1,   \n",
    "                                 conv_filter.shape[0]))  \n",
    "   \n",
    "     # Convolving the image by the filter(s).  \n",
    "    for filter_num in range(conv_filter.shape[0]):  \n",
    "         \n",
    "        print(\"Filter \", filter_num + 1)  \n",
    "        curr_filter = conv_filter[filter_num, :] # getting a filter from the bank. \n",
    "         \n",
    "        \"\"\"  \n",
    "         Checking if there are mutliple channels for the single filter. \n",
    "         If so, then each channel will convolve the image. \n",
    "         The result of all convolutions are summed to return a single feature map. \n",
    "        \"\"\"  \n",
    "        if len(curr_filter.shape) > 2:  \n",
    "             \n",
    "            conv_map = conv_(img[:, :, 0], curr_filter[:, :, 0]) # Array holding the sum of all feature maps.               \n",
    "            for ch_num in range(1, curr_filter.shape[-1]): # Convolving each channel with the image and summing the results.  \n",
    "                conv_map = conv_map + conv_(img[:, :, ch_num],   \n",
    "                                   curr_filter[:, :, ch_num])  \n",
    "         \n",
    "        else: # There is just a single channel in the filter.  \n",
    "             conv_map = conv_(img, curr_filter)  \n",
    "        feature_maps[:, :, filter_num] = conv_map # Holding feature map with the current filter.\n",
    "    return feature_maps # Returning all feature maps."
   ]
  },
  {
   "cell_type": "markdown",
   "metadata": {},
   "source": [
    "The reasoning behind the above function starts by ensuring that the depth of each filter is equal to the number of image channels. It first checks if the channel and the filter have a depth, and if a depth exists, then it will check for their inequality. Additionally, the function will check the size of the filter is odd and filter dimensions are equal. Which means the number of rows and columns are odd and equal."
   ]
  },
  {
   "cell_type": "markdown",
   "metadata": {},
   "source": [
    "***Side Note: Why we usually have a filter size of odd numbers?***\n",
    "\n",
    "The intent of convolution is to encode source data matrix(entire image) in terms of filter or kernel. More specifically, we are trying to encode the pixels in the neighborhood of anchor/source pixels. Typically, the source pixel is the anchor point at which the kernel is centered and we are encoding all the neighboring pixels, including the anchor/source pixel. Since the kernel is symmetrically shaped (not symmetric in kernel values), there are equal number(n) of pixel on all sides (4-connectivity) of the anchor pixel. Therefore, whatever this number of pixels maybe, the length of each side of our symmetrically shaped kernel is 2*n+1 (each side of the anchor + the anchor pixie). and therefore filter/kernel are always odd sized.  (Refer to the following picture for more details) \n",
    "\n",
    "![image](https://i.stack.imgur.com/YDusp.png)\n",
    "\n",
    "\n",
    "\n"
   ]
  },
  {
   "cell_type": "markdown",
   "metadata": {},
   "source": [
    "Because there is no stride nr padding, the feature map size will be equal to\n",
    "\n",
    "(img_rows - filter_rows+1, image_columns - filter_columns +1, num_filters)\n",
    "\n",
    "If the image to be convolved has more than one channel, then the filter must has a depth equal to such number of channels. Convolution in this case is done by concolving each image chanel with its corresponding channel in the filter. Finally, the sum of the results will be the output of feature map.\n",
    "\n",
    "The function **conv** accepts the input image and the filter bank but does not apply concolution its own. It just passes each set of input-filter paris to be convolved to the conv_ function. This is just for making the code simpler to investigate. The following is the code for **conv_** function:"
   ]
  },
  {
   "cell_type": "code",
   "execution_count": 171,
   "metadata": {},
   "outputs": [],
   "source": [
    "def conv_(img, conv_filter):  \n",
    "    filter_size = conv_filter.shape[0]  \n",
    "    result = numpy.zeros((img.shape))  \n",
    "    #Looping through the image to apply the convolution operation.  \n",
    "    for r in numpy.uint16(numpy.arange(filter_size/2,   \n",
    "                            img.shape[0]-filter_size/2-2)):  \n",
    "        for c in numpy.uint16(numpy.arange(filter_size/2, img.shape[1]-filter_size/2-2)):  \n",
    "            #Getting the current region to get multiplied with the filter.  \n",
    "            curr_region = img[r:r+filter_size, c:c+filter_size]  \n",
    "            #Element-wise multipliplication between the current region and the filter.  \n",
    "            curr_result = curr_region * conv_filter  \n",
    "            conv_sum = numpy.sum(curr_result) #Summing the result of multiplication.  \n",
    "            result[r, c] = conv_sum #Saving the summation in the convolution layer feature map.  \n",
    "               \n",
    "    #Clipping the outliers of the result matrix.  \n",
    "    final_result = result[numpy.uint16(filter_size/2):result.shape[0]-numpy.uint16(filter_size/2),   \n",
    "                           numpy.uint16(filter_size/2):result.shape[1]-numpy.uint16(filter_size/2)]  \n",
    "    return final_result  "
   ]
  },
  {
   "cell_type": "code",
   "execution_count": 148,
   "metadata": {},
   "outputs": [
    {
     "name": "stdout",
     "output_type": "stream",
     "text": [
      "Filter  1\n",
      "Filter  2\n"
     ]
    }
   ],
   "source": [
    "ex = conv(X_train2[3][:,:,0], l1_filter)"
   ]
  },
  {
   "cell_type": "code",
   "execution_count": 149,
   "metadata": {},
   "outputs": [
    {
     "data": {
      "image/png": "[encoded data removed]",
      "text/plain": [
       "<Figure size 432x288 with 2 Axes>"
      ]
     },
     "metadata": {
      "needs_background": "light"
     },
     "output_type": "display_data"
    }
   ],
   "source": [
    "f = plt.figure()\n",
    "f.add_subplot(1,2, 1)\n",
    "plt.imshow(ex[:,:,0])\n",
    "plt.title('L1-Map1')\n",
    "f.add_subplot(1,2, 2)\n",
    "plt.imshow(ex[:,:,1])\n",
    "plt.title('L1-Map2')\n",
    "plt.show(block=True)"
   ]
  },
  {
   "cell_type": "markdown",
   "metadata": {},
   "source": [
    "### (4) ReLU Layer\n",
    "\n",
    "The ReLU layer is the similar to the Recitifier from the ANN. This layer will applies ReLU activation function over each feature map returned by the conv layer. It will loop though each element in the feature map and return the original value in the feature map if it is larger than 0. Otherwise, it will return 0. It is done in the following function called **relu**:"
   ]
  },
  {
   "cell_type": "code",
   "execution_count": 150,
   "metadata": {},
   "outputs": [],
   "source": [
    "def relu(feature_map):  \n",
    "    #Preparing the output of the ReLU activation function.  \n",
    "    relu_out = numpy.zeros(feature_map.shape)  \n",
    "    for map_num in range(feature_map.shape[-1]):  \n",
    "        for r in numpy.arange(0,feature_map.shape[0]):  \n",
    "            for c in numpy.arange(0, feature_map.shape[1]):  \n",
    "                relu_out[r, c, map_num] = numpy.max(feature_map[r, c, map_num], 0)\n",
    "    return relu_out"
   ]
  },
  {
   "cell_type": "code",
   "execution_count": 151,
   "metadata": {},
   "outputs": [],
   "source": [
    "ex_relu = relu(ex)"
   ]
  },
  {
   "cell_type": "markdown",
   "metadata": {},
   "source": [
    "***Side note: Why do we need ReLU layer in CNN?***\n",
    "\n",
    "The ReLu function is $f(x) = max(0,x)$, and we sometimes call it rectifier. Usually this is applied element-wise to the output of some other function, such as matrix-vector product. Rectifier units replace all other activation functions except the readout layer. \n",
    "\n",
    "One way ReLu improve neural networks is by speeding up training. Gradients of logistic and hyperbolic tangent networks are smaller than the positive portion of the ReLU. This means that the positive portion is updated more rapidly as training progresses. However, this comes at a cost. The 0 gradient on the left-hand side has its own problem, which is called \"dead neurons\", in which a gradient update sets the incoming values to a ReLU such that the output is always zero. Modified ReLU units such as ELU(or Leaky ReLU, or PReLU) can ameliorate this.\n",
    "\n"
   ]
  },
  {
   "cell_type": "code",
   "execution_count": 152,
   "metadata": {},
   "outputs": [
    {
     "data": {
      "image/png": "[encoded data removed]",
      "text/plain": [
       "<Figure size 432x288 with 2 Axes>"
      ]
     },
     "metadata": {
      "needs_background": "light"
     },
     "output_type": "display_data"
    }
   ],
   "source": [
    "f = plt.figure()\n",
    "f.add_subplot(1,2, 1)\n",
    "plt.imshow(ex_relu[:,:,0])\n",
    "plt.title('L1-Map1ReLU')\n",
    "f.add_subplot(1,2, 2)\n",
    "plt.imshow(ex_relu[:,:,1])\n",
    "plt.title('L1-Map2-ReLU')\n",
    "plt.show(block=True)"
   ]
  },
  {
   "cell_type": "markdown",
   "metadata": {},
   "source": [
    "### (5) Max Pooling Layer"
   ]
  },
  {
   "cell_type": "markdown",
   "metadata": {},
   "source": [
    "The max pooling payer accepts the output of the ReLu layer and applies the max pooling operation. Basically, max pooling will takes three inputs which are the output of the ReLU layer, pooling mask size and stride. It creates an empty array and holds the output of such layer. The size of such array is specified according to the size of stride arguments. \n",
    "\n",
    "\n",
    "Max pooling is done by applying a max filter to (usually) non-overlapping subregions of the initial representation. For example, let's say we have a stride of 2 (meaning the (dx, dy) for stepping over our input will be (2,2)) and won't overlap regions.\n",
    "\n",
    "For each of the regions represented by the filter, we will take the max of that region and create a new, output matrix where each element is the max of the region in the original input. We can see this in the following example：\n",
    "\n",
    "![image](https://cdn-images-1.medium.com/max/1600/1*GN_o1mJjCbX_QpYN-ps5eQ.png)\n",
    "\n",
    "Correspondingly, for multiple feature maps, the operation is as follows: 64 original $224 \\times 224$ images, after Max Pooling, becomes $64 \\times 112 \\times 112$ imagaes, thus achieving the purpose of downsampling.\n",
    "![image](https://www.codeblogbt.com/img/2018/08/18/1358931-20180727233554402-1570502802.jpg)"
   ]
  },
  {
   "cell_type": "markdown",
   "metadata": {},
   "source": [
    "A more illustrative calculation can be shown in the following graph, it will tells why max pooling is necessary - because we need to use the property of **translation invariant**. And max pooling will increase the translation invariance. \n",
    "\n",
    "For further details in pooling, check this [link](http://www.deeplearningbook.org/contents/convnets.html) for reference. \n",
    "\n",
    "![image](https://www.codeblogbt.com/img/2018/08/18/1358931-20180727234303398-77695332.jpg)"
   ]
  },
  {
   "cell_type": "markdown",
   "metadata": {},
   "source": [
    "The function to implement pooling is as follows. This function accepts three input which are the output of the ReLU layer, pooling mask size, and stride. It simply creates an empty array, as previous, that holds the output of such layer. "
   ]
  },
  {
   "cell_type": "code",
   "execution_count": 153,
   "metadata": {},
   "outputs": [],
   "source": [
    "def pooling(feature_map, size=2, stride=2):  \n",
    "    #Preparing the output of the pooling operation.  \n",
    "    pool_out = numpy.zeros((numpy.uint16((feature_map.shape[0]-size+1)/stride),  \n",
    "                              numpy.uint16((feature_map.shape[1]-size+1)/stride),  \n",
    "                              feature_map.shape[-1]))  \n",
    "    for map_num in range(feature_map.shape[-1]):  \n",
    "        r2 = 0  \n",
    "        for r in numpy.arange(0,feature_map.shape[0]-size-1, stride):  \n",
    "            c2 = 0  \n",
    "            for c in numpy.arange(0, feature_map.shape[1]-size-1, stride):  \n",
    "                pool_out[r2, c2, map_num] = numpy.max(feature_map[r:r+size,  c:c+size])  \n",
    "                c2 = c2 + 1  \n",
    "            r2 = r2 +1  \n",
    "    return pool_out"
   ]
  },
  {
   "cell_type": "code",
   "execution_count": 154,
   "metadata": {},
   "outputs": [],
   "source": [
    "ex_relu_pool = pooling(ex_relu, 2,2)"
   ]
  },
  {
   "cell_type": "code",
   "execution_count": 156,
   "metadata": {},
   "outputs": [
    {
     "data": {
      "image/png": "[encoded data removed]",
      "text/plain": [
       "<Figure size 432x288 with 2 Axes>"
      ]
     },
     "metadata": {
      "needs_background": "light"
     },
     "output_type": "display_data"
    }
   ],
   "source": [
    "f = plt.figure()\n",
    "f.add_subplot(1,2, 1)\n",
    "plt.imshow(ex_relu_pool[:,:,0])\n",
    "plt.title('L1-Map1ReLUPool')\n",
    "f.add_subplot(1,2, 2)\n",
    "plt.imshow(ex_relu_pool[:,:,1])\n",
    "plt.title('L1-Map2-ReLUPool')\n",
    "plt.show(block=True)"
   ]
  },
  {
   "cell_type": "markdown",
   "metadata": {},
   "source": [
    "We can see that after pooling, the size of the graph shrinks as we have seem in the previous example."
   ]
  },
  {
   "cell_type": "markdown",
   "metadata": {},
   "source": [
    "### (6) Stacking layers"
   ]
  },
  {
   "cell_type": "markdown",
   "metadata": {},
   "source": [
    "Adding the second layer to the previous network will be similar to apply the previous layer sequentially. For example, we can add a new layer called l2 whose filter will be $3 \\times 5 \\times 5$ (which has 3 filters). In this case, we will expects 3 feature maps from the conv layer, and the same for sucessive layers."
   ]
  },
  {
   "cell_type": "code",
   "execution_count": 167,
   "metadata": {},
   "outputs": [],
   "source": [
    "l2_filter = np.random.rand(3,5,5,ex_relu_pool.shape[-1])"
   ]
  },
  {
   "cell_type": "code",
   "execution_count": 174,
   "metadata": {},
   "outputs": [
    {
     "name": "stdout",
     "output_type": "stream",
     "text": [
      "Filter  1\n",
      "Filter  2\n",
      "Filter  3\n"
     ]
    }
   ],
   "source": [
    "l2_fp = conv(ex_relu_pool, l2_filter)\n",
    "l2_fp_relu = relu(l2_fp)\n",
    "l2_fp_relu_pool = pooling(l2_fp_relu)"
   ]
  },
  {
   "cell_type": "code",
   "execution_count": 188,
   "metadata": {},
   "outputs": [
    {
     "data": {
      "image/png": "[encoded data removed]",
      "text/plain": [
       "<Figure size 432x288 with 3 Axes>"
      ]
     },
     "metadata": {
      "needs_background": "light"
     },
     "output_type": "display_data"
    },
    {
     "data": {
      "image/png": "[encoded data removed]",
      "text/plain": [
       "<Figure size 432x288 with 3 Axes>"
      ]
     },
     "metadata": {
      "needs_background": "light"
     },
     "output_type": "display_data"
    },
    {
     "data": {
      "image/png": "[encoded data removed]",
      "text/plain": [
       "<Figure size 432x288 with 3 Axes>"
      ]
     },
     "metadata": {
      "needs_background": "light"
     },
     "output_type": "display_data"
    }
   ],
   "source": [
    "f = plt.figure()\n",
    "f.add_subplot(1,3, 1)\n",
    "plt.imshow(l2_fp[:,:,0])\n",
    "plt.title('L2-Map1')\n",
    "f.add_subplot(1,3, 2)\n",
    "plt.imshow(l2_fp[:,:,1])\n",
    "plt.title('L2-Map2')\n",
    "f.add_subplot(1,3, 3)\n",
    "plt.imshow(l2_fp[:,:,2])\n",
    "plt.title('L2-Map2')\n",
    "plt.show(block=True)\n",
    "f = plt.figure()\n",
    "f.add_subplot(1,3, 1)\n",
    "plt.imshow(l2_fp_relu[:,:,0])\n",
    "plt.title('L2-Map1Relu')\n",
    "f.add_subplot(1,3, 2)\n",
    "plt.imshow(l2_fp_relu[:,:,1])\n",
    "plt.title('L2-Map2Relu')\n",
    "f.add_subplot(1,3, 3)\n",
    "plt.imshow(l2_fp_relu[:,:,2])\n",
    "plt.title('L2-Map2Relu')\n",
    "plt.show(block=True)\n",
    "f = plt.figure()\n",
    "f.add_subplot(1,3, 1)\n",
    "plt.imshow(l2_fp_relu_pool[:,:,0])\n",
    "plt.title('L2-Map1ReluPool')\n",
    "f.add_subplot(1,3, 2)\n",
    "plt.imshow(l2_fp_relu_pool[:,:,1])\n",
    "plt.title('L2-Map2ReluPool')\n",
    "f.add_subplot(1,3, 3)\n",
    "plt.imshow(l2_fp_relu_pool[:,:,2])\n",
    "plt.title('L2-Map2ReluPool')\n",
    "plt.show(block=True)"
   ]
  },
  {
   "cell_type": "markdown",
   "metadata": {},
   "source": [
    "## 2. Building CNN Using Keras from Scratch\n",
    "\n",
    "Now since we have known how the CNN works from behind the scene, it is generaly easier and faster when using the integrated libraries from Python. Keras is a good library to handle CNN so we can start from here. \n",
    "\n",
    "The general steps for building keras is relatively simple, but we need to understand the details when using these libraries correctly. I am using a very straight-forward yet provoking tutorial from kaggle, thanks to the excellent work of Yassine Ghouzam. The Yassine's tutorial is linked in [here](https://www.kaggle.com/yassineghouzam/introduction-to-cnn-keras-0-997-top-6).\n",
    "\n",
    "However, this notebook will also explore other possibilities other than the \n",
    "\n",
    "1. Data preparation\n",
    "2. CNN\n",
    "3. Evaluate the model\n",
    "4. Using other networks"
   ]
  },
  {
   "cell_type": "markdown",
   "metadata": {},
   "source": [
    "### (1) Data Preparation\n",
    "\n",
    "#### a. Loading libraries\n",
    "\n",
    "For reference as well as easy navigation, all the packages used in this library will be posted in the coding block. If using anaconda environment, most of the packages we have will not require installment except for Keras. To install Keras, check this [link](https://keras.io/#installation) for complete guideline. To access my setup in Anaconda, check this [link](http://inmachineswetrust.com/posts/deep-learning-setup/) for install it on virtual enviornment. \n",
    "\n",
    "**Sidenote**: if ever encounter any problem regarding the numpy, check [this](https://stackoverflow.com/questions/20518632/importerror-numpy-core-multiarray-failed-to-import). "
   ]
  },
  {
   "cell_type": "code",
   "execution_count": 13,
   "metadata": {},
   "outputs": [],
   "source": [
    "## For data preprocessing\n",
    "import pandas as pd\n",
    "import numpy as np\n",
    "import matplotlib.pyplot as plt\n",
    "import matplotlib.image as mpimg\n",
    "import seaborn as sns\n",
    "\n",
    "from sklearn.model_selection import train_test_split\n",
    "from sklearn.metrics import confusion_matrix\n",
    "import itertools"
   ]
  },
  {
   "cell_type": "code",
   "execution_count": 3,
   "metadata": {},
   "outputs": [],
   "source": [
    "## From Keras\n",
    "\n",
    "from keras.utils.np_utils import to_categorical #convert to one-hot-encoding\n",
    "from keras.models import Sequential\n",
    "from keras.layers import Dense, Dropout, Flatten, Conv2D, MaxPool2D\n",
    "from keras.optimizers import RMSprop\n",
    "from keras.preprocessing.image import ImageDataGenerator\n",
    "from keras.callbacks import ReduceLROnPlateau"
   ]
  },
  {
   "cell_type": "markdown",
   "metadata": {},
   "source": [
    "#### b. Loading data\n",
    "\n",
    "Loading data is pretty much the same as in the guideline. We can run a missing value check and do normalization on the data if necessary. \n",
    "\n",
    "We also need to encode labels to one-hot vectors in 10 classes. Since we have 10 digits number from 0 to 9, so when we have label of 2, it will converts to $ [ 0,0,1,0,0,0,0,0,0,0 ]$"
   ]
  },
  {
   "cell_type": "code",
   "execution_count": 11,
   "metadata": {},
   "outputs": [],
   "source": [
    "Y_train2 = to_categorical(Y_train, num_classes=10)"
   ]
  },
  {
   "cell_type": "markdown",
   "metadata": {},
   "source": [
    "We can also do a train-test splits. In here I choose to do a 80-20 splits which 80% goes to training data and the 20% goes to test data. "
   ]
  },
  {
   "cell_type": "code",
   "execution_count": 15,
   "metadata": {},
   "outputs": [],
   "source": [
    "X_train, X_test, Y_train, Y_test = train_test_split(X_train2, Y_train2, \n",
    "                                                    test_size = 0.2, random_state =0)"
   ]
  },
  {
   "cell_type": "markdown",
   "metadata": {},
   "source": [
    "### (2) Building CNN \n",
    "\n",
    "#### a. Creating a model using Sequential (Basic)\n",
    "\n",
    "Sequential in Keras is the easiest way to create a CNN, because it simply let us stacking layers one after another. In our case, since the output are expected to be linear, it is very useful to use Sequential to build a prototype for our model. \n",
    "\n",
    "Basically, what Yassine does is pretty similar to what we have done in the previous guideline. The only different layer is Dropout and Flatten. \n",
    "\n",
    "Dropout acts as a regularization layer which ignores some proportion of nodes in the layer randomly for each training sample. This will force the network to learn features in a distributed way. It is important because it will help improve generalization and reduces overfitting.\n",
    "\n",
    "Flatten layer is use to convert the final feature maps into one single 1D vector. This flattening step is needed so that you can make sure fully connected layers after some convolutional/maxpool layers. It combines all the found local features of the previous convolutional layers.\n",
    "\n",
    "***Sidenote: Padding*** \n",
    "\n",
    "Generally when convoluting the matrix, we will have two problems regarding the pixels: you will have a shrinked input and you tend to throw away information from edges. One way to avoid these matters is by padding: expanding the border with n pixels. \n",
    "\n",
    "***Sidenote: Valid Convolution & Same Convolution***\n",
    "\n",
    "\"Valid\" is basically no padding. The output will shrink and we generally have $(n \\times n) \\cdot (f \\times f)$ will result in a $(n-f+1, n-f+1)$ matrix\n",
    "\n",
    "\"Same\" is using padding so that output size is the same as the input size.\n",
    "\n",
    "#### b. Building CNN architecture\n",
    "\n",
    "Now we understand the basics of how we are going to use the Sequential, the next important thing is to build our own CNN architecture that actually works. I use this [guide](https://towardsdatascience.com/a-guide-to-an-efficient-way-to-build-neural-network-architectures-part-ii-hyper-parameter-42efca01e5d7) to create my own CNN architecture and it is pretty good newbie guide for learning. \n",
    "\n",
    "We proposed DenseNets network to build our architecture. Densely connected convolutional networks (DenseNets) is based on observation that if each layer is directly connected to every other layer in a feed-forward way then the network will be more accurate and easier to train. A general outlook on DenseNet can be found in [here](https://arxiv.org/pdf/1608.06993v3.pdf). Also, I am suggesting using [this paper](https://arxiv.org/pdf/1611.09326v2.pdf) to understand fully convolutional DenseNets for semantic segmentation and [this paper](https://arxiv.org/pdf/1707.06316v1.pdf) of DenseNet for optical flow.\n",
    "\n",
    "We build our first architecture by using LeNet-5 by using the Keras and visualize the trainig.\n",
    "\n",
    "***Architecture***\n",
    "\n",
    "- Convolutional NN #1 'same'\n",
    "    - input: 28x28x1\n",
    "    - filter: 6, activation: 'relu', size: 3x3\n",
    "    - output: 28x28x6\n",
    "- Pooling #1 'valid'\n",
    "    - input：28x28x1\n",
    "    - filter：6, activation: 'relu', size: 2x2\n",
    "    - output: \n",
    "- Convolutional NN #1 'Valid'\n",
    "    - input: "
   ]
  },
  {
   "cell_type": "code",
   "execution_count": null,
   "metadata": {},
   "outputs": [],
   "source": [
    "Inputs = Input(shape=)\n",
    "model = Sequential()\n",
    "model.add(Conv2(filters = 6, kernel_size = (3,3), padding = 'Same', \n",
    "                activation = 'relu',input_shape = (28,28,1)))\n",
    "model.add(MaxPooling2D(pool_size = (2,2), strides = 2))\n",
    "model.add(Conv2D(filters = 32, kernel_size = (5,5), padding ='Same', \n",
    "                 activation = 'relu'))\n",
    "model.add(MaxPooling2D(pool_size = (2,2), strides = 2))\n",
    "model.add(Flatten())\n",
    "model.add(Dense)"
   ]
  }
 ],
 "metadata": {
  "kernelspec": {
   "display_name": "Python 3",
   "language": "python",
   "name": "python3"
  },
  "language_info": {
   "codemirror_mode": {
    "name": "ipython",
    "version": 3
   },
   "file_extension": ".py",
   "mimetype": "text/x-python",
   "name": "python",
   "nbconvert_exporter": "python",
   "pygments_lexer": "ipython3",
   "version": "3.7.1"
  }
 },
 "nbformat": 4,
 "nbformat_minor": 2
}
